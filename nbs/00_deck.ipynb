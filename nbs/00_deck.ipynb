{
 "cells": [
  {
   "cell_type": "markdown",
   "metadata": {},
   "source": [
    "# deck - A deck of cards\n",
    "\n",
    "> A simple API for creating a deck of cards"
   ]
  },
  {
   "cell_type": "code",
   "execution_count": 1,
   "metadata": {},
   "outputs": [],
   "source": [
    "#| default_exp deck\n",
    "from nbdev_cards.card import *"
   ]
  },
  {
   "cell_type": "code",
   "execution_count": 2,
   "metadata": {},
   "outputs": [],
   "source": [
    "#| hide\n",
    "import nbdev; nbdev.nbdev_export()"
   ]
  },
  {
   "cell_type": "code",
   "execution_count": 3,
   "metadata": {},
   "outputs": [],
   "source": [
    "#| hide\n",
    "from nbdev.showdoc import *"
   ]
  },
  {
   "cell_type": "code",
   "execution_count": 18,
   "metadata": {},
   "outputs": [],
   "source": [
    "#| export\n",
    "class Deck:\n",
    "    \"\"\"Class representing a deck of cards\"\"\"\n",
    "    def __init__(self, \n",
    "                 cards: list[Card], # List of cards\n",
    "                 ):\n",
    "        self.cards = cards\n",
    "    def __str__(self):\n",
    "        return \"; \".join(self.cards)\n",
    "    __repr__ = __str__\n",
    "    def __lt__(self,\n",
    "               deck: \"Deck\"): # Another deck to compare with\n",
    "        for eigen_card in self.cards:\n",
    "            for other_card in deck:\n",
    "                if eigen_card > other_card:\n",
    "                    return False\n",
    "        return True\n",
    "    def __gt__(self,\n",
    "               deck: \"Deck\"): # Another deck to compare with\n",
    "        for eigen_card in self.cards:\n",
    "            for other_card in deck:\n",
    "                if eigen_card < other_card:\n",
    "                    return False\n",
    "        return True\n",
    "    def __eq__(self,\n",
    "               deck: \"Deck\"): # Another deck to compare with\n",
    "        for eigen_card in self.cards:\n",
    "            for other_card in deck.cards:\n",
    "                if eigen_card < other_card or eigen_card > other_card:\n",
    "                    return False\n",
    "        return True"
   ]
  },
  {
   "cell_type": "markdown",
   "metadata": {},
   "source": [
    "## Tests"
   ]
  },
  {
   "cell_type": "code",
   "execution_count": 19,
   "metadata": {},
   "outputs": [],
   "source": [
    "cards_1 = [Card(s, r) for s in range(4) for r in range(1,3)]"
   ]
  },
  {
   "cell_type": "code",
   "execution_count": 20,
   "metadata": {},
   "outputs": [
    {
     "data": {
      "text/plain": [
       "[\n",
       "             __________\n",
       "             |♣️       |\n",
       "             |        |\n",
       "             |        |\n",
       "             |       A|\n",
       "             ----------\n",
       "         ,\n",
       " \n",
       "             __________\n",
       "             |♣️       |\n",
       "             |        |\n",
       "             |        |\n",
       "             |       2|\n",
       "             ----------\n",
       "         ,\n",
       " \n",
       "             __________\n",
       "             |♦️       |\n",
       "             |        |\n",
       "             |        |\n",
       "             |       A|\n",
       "             ----------\n",
       "         ]"
      ]
     },
     "execution_count": 20,
     "metadata": {},
     "output_type": "execute_result"
    }
   ],
   "source": [
    "cards_1[:3]"
   ]
  },
  {
   "cell_type": "code",
   "execution_count": 21,
   "metadata": {},
   "outputs": [
    {
     "data": {
      "text/plain": [
       "8"
      ]
     },
     "execution_count": 21,
     "metadata": {},
     "output_type": "execute_result"
    }
   ],
   "source": [
    "len(cards_1)"
   ]
  },
  {
   "cell_type": "code",
   "execution_count": 22,
   "metadata": {},
   "outputs": [],
   "source": [
    "cards_2 = [Card(s, r) for s in range(4) for r in range(3,5)]"
   ]
  },
  {
   "cell_type": "code",
   "execution_count": 23,
   "metadata": {},
   "outputs": [
    {
     "data": {
      "text/plain": [
       "[\n",
       "             __________\n",
       "             |♣️       |\n",
       "             |        |\n",
       "             |        |\n",
       "             |       3|\n",
       "             ----------\n",
       "         ,\n",
       " \n",
       "             __________\n",
       "             |♣️       |\n",
       "             |        |\n",
       "             |        |\n",
       "             |       4|\n",
       "             ----------\n",
       "         ,\n",
       " \n",
       "             __________\n",
       "             |♦️       |\n",
       "             |        |\n",
       "             |        |\n",
       "             |       3|\n",
       "             ----------\n",
       "         ]"
      ]
     },
     "execution_count": 23,
     "metadata": {},
     "output_type": "execute_result"
    }
   ],
   "source": [
    "cards_2[:3]"
   ]
  },
  {
   "cell_type": "code",
   "execution_count": 24,
   "metadata": {},
   "outputs": [
    {
     "data": {
      "text/plain": [
       "8"
      ]
     },
     "execution_count": 24,
     "metadata": {},
     "output_type": "execute_result"
    }
   ],
   "source": [
    "len(cards_2)"
   ]
  },
  {
   "cell_type": "code",
   "execution_count": 25,
   "metadata": {},
   "outputs": [],
   "source": [
    "assert not Deck(cards_1) == Deck(cards_2)"
   ]
  },
  {
   "cell_type": "code",
   "execution_count": 26,
   "metadata": {},
   "outputs": [
    {
     "ename": "AssertionError",
     "evalue": "",
     "output_type": "error",
     "traceback": [
      "\u001b[0;31m---------------------------------------------------------------------------\u001b[0m",
      "\u001b[0;31mAssertionError\u001b[0m                            Traceback (most recent call last)",
      "\u001b[1;32m/home/sam/Projects/FastAI/nbdev/cards/nbdev_cards/nbs/00_deck.ipynb Cell 14\u001b[0m line \u001b[0;36m1\n\u001b[0;32m----> <a href='vscode-notebook-cell://wsl%2Bubuntu/home/sam/Projects/FastAI/nbdev/cards/nbdev_cards/nbs/00_deck.ipynb#X22sdnNjb2RlLXJlbW90ZQ%3D%3D?line=0'>1</a>\u001b[0m \u001b[39massert\u001b[39;00m Deck(cards_1) \u001b[39m==\u001b[39m Deck(cards_1)\n",
      "\u001b[0;31mAssertionError\u001b[0m: "
     ]
    }
   ],
   "source": [
    "assert Deck(cards_1) == Deck(cards_1)"
   ]
  },
  {
   "cell_type": "code",
   "execution_count": null,
   "metadata": {},
   "outputs": [],
   "source": []
  }
 ],
 "metadata": {
  "kernelspec": {
   "display_name": "python3",
   "language": "python",
   "name": "python3"
  },
  "language_info": {
   "codemirror_mode": {
    "name": "ipython",
    "version": 3
   },
   "file_extension": ".py",
   "mimetype": "text/x-python",
   "name": "python",
   "nbconvert_exporter": "python",
   "pygments_lexer": "ipython3",
   "version": "3.11.5"
  }
 },
 "nbformat": 4,
 "nbformat_minor": 4
}
